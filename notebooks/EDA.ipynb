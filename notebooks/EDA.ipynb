{
 "cells": [
  {
   "cell_type": "markdown",
   "metadata": {},
   "source": [
    "The code below was used to examine how different values affect the accuracy of the prediction.\n",
    "```bash\n",
    "from sklearn.metrics import accuracy_score\n",
    "import itertools\n",
    "import numpy as np\n",
    "\n",
    "def grid_search_doc2vec_parameters(tagged_data, df_train, df_test, y_test, param_grid):\n",
    "    best_accuracy = 0\n",
    "    best_params = {}\n",
    "    all_results = []\n",
    "\n",
    "    for vector_size, window, min_count, epochs in itertools.product(*param_grid.values()):\n",
    "        print(f\"Training Doc2Vec with vector_size={vector_size}, window={window}, min_count={min_count}, epochs={epochs}...\")\n",
    "        \n",
    "        # Train Doc2Vec model\n",
    "        model = train_doc2vec_model(tagged_data, vector_size=vector_size, window=window, min_count=min_count, epochs=epochs, workers=4)\n",
    "        \n",
    "        # Infer vectors for training and testing datasets\n",
    "        vectors_train = infer_vectors(model, tagged_data)\n",
    "        X_train = vectors_train\n",
    "        y_train = df_train['label']\n",
    "        \n",
    "        vectors_test = infer_vectors(model, create_tagged_document(df_test))\n",
    "        X_test = vectors_test\n",
    "        \n",
    "        # Train Logistic Regression model\n",
    "        clf = LogisticRegression(random_state=0, max_iter=1000)\n",
    "        clf.fit(X_train, y_train)\n",
    "        \n",
    "        # Predict and evaluate\n",
    "        y_pred = clf.predict(X_test)\n",
    "        accuracy = accuracy_score(y_test, y_pred)\n",
    "        \n",
    "        print(f\"Accuracy: {accuracy}\")\n",
    "        \n",
    "        # Keep track of the best parameters\n",
    "        if accuracy > best_accuracy:\n",
    "            best_accuracy = accuracy\n",
    "            best_params = {'vector_size': vector_size, 'window': window, 'min_count': min_count, 'epochs': epochs}\n",
    "        \n",
    "        # Store all results\n",
    "        all_results.append((accuracy, vector_size, window, min_count, epochs))\n",
    "\n",
    "    print(f\"Best Accuracy: {best_accuracy}\")\n",
    "    print(f\"Best Parameters: {best_params}\")\n",
    "    return best_params, all_results\n",
    "\n",
    "# Define your parameter grid\n",
    "param_grid = {\n",
    "    'vector_size': [768, 400, 500, 300],  # Example sizes\n",
    "    'window': [2],           # Example window sizes\n",
    "    'min_count': [2],        # Example min_count values\n",
    "    'epochs': [20]          # Example epoch counts\n",
    "}\n",
    "\n",
    "# Run the grid search\n",
    "best_params, all_results = grid_search_doc2vec_parameters(tagged_data_train, df_train, df_test, df_test['label'], param_grid)\n",
    "```"
   ]
  },
  {
   "cell_type": "markdown",
   "metadata": {},
   "source": [
    "### Execute the whole notebook to see the results. "
   ]
  },
  {
   "cell_type": "code",
   "execution_count": null,
   "metadata": {},
   "outputs": [],
   "source": [
    "# Exacut"
   ]
  }
 ],
 "metadata": {
  "language_info": {
   "name": "python"
  }
 },
 "nbformat": 4,
 "nbformat_minor": 2
}
