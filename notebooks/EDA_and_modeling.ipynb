{
 "cells": [
  {
   "cell_type": "code",
   "execution_count": 5,
   "metadata": {},
   "outputs": [],
   "source": [
    "# Load pandas and numpy\n",
    "import pandas as pd\n",
    "import numpy as np\n",
    "# For text preprocessing\n",
    "import spacy\n",
    "nlp = spacy.load('en_core_web_sm')"
   ]
  },
  {
   "cell_type": "code",
   "execution_count": 6,
   "metadata": {},
   "outputs": [
    {
     "data": {
      "text/html": [
       "<div>\n",
       "<style scoped>\n",
       "    .dataframe tbody tr th:only-of-type {\n",
       "        vertical-align: middle;\n",
       "    }\n",
       "\n",
       "    .dataframe tbody tr th {\n",
       "        vertical-align: top;\n",
       "    }\n",
       "\n",
       "    .dataframe thead th {\n",
       "        text-align: right;\n",
       "    }\n",
       "</style>\n",
       "<table border=\"1\" class=\"dataframe\">\n",
       "  <thead>\n",
       "    <tr style=\"text-align: right;\">\n",
       "      <th></th>\n",
       "      <th>Claim</th>\n",
       "      <th>Evidence</th>\n",
       "      <th>label</th>\n",
       "    </tr>\n",
       "  </thead>\n",
       "  <tbody>\n",
       "    <tr>\n",
       "      <th>0</th>\n",
       "      <td>We should legalize the growing of coca leaf</td>\n",
       "      <td>Seeing the involvement of the coca growers, th...</td>\n",
       "      <td>0</td>\n",
       "    </tr>\n",
       "    <tr>\n",
       "      <th>1</th>\n",
       "      <td>We should limit the use of birth control</td>\n",
       "      <td>Although FDA-approved for contraceptive use, S...</td>\n",
       "      <td>0</td>\n",
       "    </tr>\n",
       "    <tr>\n",
       "      <th>2</th>\n",
       "      <td>We should prohibit flag burning</td>\n",
       "      <td>The case of Texas v. Johnson was appealed to t...</td>\n",
       "      <td>0</td>\n",
       "    </tr>\n",
       "    <tr>\n",
       "      <th>3</th>\n",
       "      <td>The vow of celibacy should be abandoned</td>\n",
       "      <td>Much of the encyclical is spent discussing rea...</td>\n",
       "      <td>1</td>\n",
       "    </tr>\n",
       "    <tr>\n",
       "      <th>4</th>\n",
       "      <td>We should further exploit natural gas</td>\n",
       "      <td>Helium is typically produced by separating it ...</td>\n",
       "      <td>0</td>\n",
       "    </tr>\n",
       "  </tbody>\n",
       "</table>\n",
       "</div>"
      ],
      "text/plain": [
       "                                         Claim  \\\n",
       "0  We should legalize the growing of coca leaf   \n",
       "1     We should limit the use of birth control   \n",
       "2              We should prohibit flag burning   \n",
       "3      The vow of celibacy should be abandoned   \n",
       "4        We should further exploit natural gas   \n",
       "\n",
       "                                            Evidence  label  \n",
       "0  Seeing the involvement of the coca growers, th...      0  \n",
       "1  Although FDA-approved for contraceptive use, S...      0  \n",
       "2  The case of Texas v. Johnson was appealed to t...      0  \n",
       "3  Much of the encyclical is spent discussing rea...      1  \n",
       "4  Helium is typically produced by separating it ...      0  "
      ]
     },
     "execution_count": 6,
     "metadata": {},
     "output_type": "execute_result"
    }
   ],
   "source": [
    "# Load the dataset with pandas and display the first 5 rows\n",
    "filepath = '/Users/thebekhruz/Desktop/nlu/EvidenceExplorer/data/validate/dev.csv'\n",
    "df = pd.read_csv(filepath)\n",
    "df.head()\n"
   ]
  },
  {
   "cell_type": "markdown",
   "metadata": {},
   "source": [
    "### Check the dataset "
   ]
  },
  {
   "cell_type": "code",
   "execution_count": 7,
   "metadata": {},
   "outputs": [
    {
     "data": {
      "text/plain": [
       "Claim       0\n",
       "Evidence    0\n",
       "label       0\n",
       "dtype: int64"
      ]
     },
     "execution_count": 7,
     "metadata": {},
     "output_type": "execute_result"
    }
   ],
   "source": [
    "# Check for nan values \n",
    "df.isnull().sum()\n"
   ]
  },
  {
   "cell_type": "code",
   "execution_count": 8,
   "metadata": {},
   "outputs": [
    {
     "data": {
      "text/plain": [
       "0"
      ]
     },
     "execution_count": 8,
     "metadata": {},
     "output_type": "execute_result"
    }
   ],
   "source": [
    "# Check for duplicates\n",
    "df.duplicated().sum()\n",
    "    "
   ]
  },
  {
   "cell_type": "code",
   "execution_count": 9,
   "metadata": {},
   "outputs": [
    {
     "data": {
      "text/plain": [
       "(5926, 3)"
      ]
     },
     "execution_count": 9,
     "metadata": {},
     "output_type": "execute_result"
    }
   ],
   "source": [
    "# Check the shape of the dataset\n",
    "df.shape"
   ]
  },
  {
   "cell_type": "markdown",
   "metadata": {},
   "source": [
    "### Preprocessing "
   ]
  },
  {
   "cell_type": "code",
   "execution_count": 10,
   "metadata": {},
   "outputs": [],
   "source": [
    "# Clean the text using spacy\n",
    "# This involves stopword removal, lemmatization, and lowercasing and tokensization\n",
    "def clean_text(text):\n",
    "    doc = nlp(text)\n",
    "    tokens = [token.lemma_.lower() for token in doc if not token.is_stop]\n",
    "    return ' '.join(tokens)\n",
    "\n",
    "# Apply the clean_text function to the text column\n",
    "df['Claim_Cleaned'] = df['Claim'].apply(clean_text)\n",
    "df['Evidence_Cleaned'] = df['Evidence'].apply(clean_text)\n",
    "\n"
   ]
  },
  {
   "cell_type": "code",
   "execution_count": 12,
   "metadata": {},
   "outputs": [
    {
     "data": {
      "text/html": [
       "<div>\n",
       "<style scoped>\n",
       "    .dataframe tbody tr th:only-of-type {\n",
       "        vertical-align: middle;\n",
       "    }\n",
       "\n",
       "    .dataframe tbody tr th {\n",
       "        vertical-align: top;\n",
       "    }\n",
       "\n",
       "    .dataframe thead th {\n",
       "        text-align: right;\n",
       "    }\n",
       "</style>\n",
       "<table border=\"1\" class=\"dataframe\">\n",
       "  <thead>\n",
       "    <tr style=\"text-align: right;\">\n",
       "      <th></th>\n",
       "      <th>Claim</th>\n",
       "      <th>Claim_Cleaned</th>\n",
       "      <th>Evidence</th>\n",
       "      <th>Evidence_Cleaned</th>\n",
       "      <th>label</th>\n",
       "    </tr>\n",
       "  </thead>\n",
       "  <tbody>\n",
       "    <tr>\n",
       "      <th>0</th>\n",
       "      <td>We should legalize the growing of coca leaf</td>\n",
       "      <td>legalize growing coca leaf</td>\n",
       "      <td>Seeing the involvement of the coca growers, th...</td>\n",
       "      <td>see involvement coca grower , bolivian governm...</td>\n",
       "      <td>0</td>\n",
       "    </tr>\n",
       "    <tr>\n",
       "      <th>1</th>\n",
       "      <td>We should limit the use of birth control</td>\n",
       "      <td>limit use birth control</td>\n",
       "      <td>Although FDA-approved for contraceptive use, S...</td>\n",
       "      <td>fda - approve contraceptive use , searle marke...</td>\n",
       "      <td>0</td>\n",
       "    </tr>\n",
       "    <tr>\n",
       "      <th>2</th>\n",
       "      <td>We should prohibit flag burning</td>\n",
       "      <td>prohibit flag burning</td>\n",
       "      <td>The case of Texas v. Johnson was appealed to t...</td>\n",
       "      <td>case texas v. johnson appeal united states sup...</td>\n",
       "      <td>0</td>\n",
       "    </tr>\n",
       "    <tr>\n",
       "      <th>3</th>\n",
       "      <td>The vow of celibacy should be abandoned</td>\n",
       "      <td>vow celibacy abandon</td>\n",
       "      <td>Much of the encyclical is spent discussing rea...</td>\n",
       "      <td>encyclical spend discuss reason paul vi believ...</td>\n",
       "      <td>1</td>\n",
       "    </tr>\n",
       "    <tr>\n",
       "      <th>4</th>\n",
       "      <td>We should further exploit natural gas</td>\n",
       "      <td>exploit natural gas</td>\n",
       "      <td>Helium is typically produced by separating it ...</td>\n",
       "      <td>helium typically produce separate natural gas ...</td>\n",
       "      <td>0</td>\n",
       "    </tr>\n",
       "  </tbody>\n",
       "</table>\n",
       "</div>"
      ],
      "text/plain": [
       "                                         Claim               Claim_Cleaned  \\\n",
       "0  We should legalize the growing of coca leaf  legalize growing coca leaf   \n",
       "1     We should limit the use of birth control     limit use birth control   \n",
       "2              We should prohibit flag burning       prohibit flag burning   \n",
       "3      The vow of celibacy should be abandoned        vow celibacy abandon   \n",
       "4        We should further exploit natural gas         exploit natural gas   \n",
       "\n",
       "                                            Evidence  \\\n",
       "0  Seeing the involvement of the coca growers, th...   \n",
       "1  Although FDA-approved for contraceptive use, S...   \n",
       "2  The case of Texas v. Johnson was appealed to t...   \n",
       "3  Much of the encyclical is spent discussing rea...   \n",
       "4  Helium is typically produced by separating it ...   \n",
       "\n",
       "                                    Evidence_Cleaned  label  \n",
       "0  see involvement coca grower , bolivian governm...      0  \n",
       "1  fda - approve contraceptive use , searle marke...      0  \n",
       "2  case texas v. johnson appeal united states sup...      0  \n",
       "3  encyclical spend discuss reason paul vi believ...      1  \n",
       "4  helium typically produce separate natural gas ...      0  "
      ]
     },
     "execution_count": 12,
     "metadata": {},
     "output_type": "execute_result"
    }
   ],
   "source": [
    "# Change the order of the columns\n",
    "df = df[['Claim', 'Claim_Cleaned', 'Evidence', 'Evidence_Cleaned', 'label']]\n",
    "df.head()"
   ]
  },
  {
   "cell_type": "code",
   "execution_count": 13,
   "metadata": {},
   "outputs": [
    {
     "data": {
      "text/html": [
       "<div>\n",
       "<style scoped>\n",
       "    .dataframe tbody tr th:only-of-type {\n",
       "        vertical-align: middle;\n",
       "    }\n",
       "\n",
       "    .dataframe tbody tr th {\n",
       "        vertical-align: top;\n",
       "    }\n",
       "\n",
       "    .dataframe thead th {\n",
       "        text-align: right;\n",
       "    }\n",
       "</style>\n",
       "<table border=\"1\" class=\"dataframe\">\n",
       "  <thead>\n",
       "    <tr style=\"text-align: right;\">\n",
       "      <th></th>\n",
       "      <th>Claim</th>\n",
       "      <th>Claim_Cleaned</th>\n",
       "      <th>Evidence</th>\n",
       "      <th>Evidence_Cleaned</th>\n",
       "      <th>Label</th>\n",
       "    </tr>\n",
       "  </thead>\n",
       "  <tbody>\n",
       "    <tr>\n",
       "      <th>0</th>\n",
       "      <td>We should legalize the growing of coca leaf</td>\n",
       "      <td>legalize growing coca leaf</td>\n",
       "      <td>Seeing the involvement of the coca growers, th...</td>\n",
       "      <td>see involvement coca grower , bolivian governm...</td>\n",
       "      <td>0</td>\n",
       "    </tr>\n",
       "    <tr>\n",
       "      <th>1</th>\n",
       "      <td>We should limit the use of birth control</td>\n",
       "      <td>limit use birth control</td>\n",
       "      <td>Although FDA-approved for contraceptive use, S...</td>\n",
       "      <td>fda - approve contraceptive use , searle marke...</td>\n",
       "      <td>0</td>\n",
       "    </tr>\n",
       "    <tr>\n",
       "      <th>2</th>\n",
       "      <td>We should prohibit flag burning</td>\n",
       "      <td>prohibit flag burning</td>\n",
       "      <td>The case of Texas v. Johnson was appealed to t...</td>\n",
       "      <td>case texas v. johnson appeal united states sup...</td>\n",
       "      <td>0</td>\n",
       "    </tr>\n",
       "    <tr>\n",
       "      <th>3</th>\n",
       "      <td>The vow of celibacy should be abandoned</td>\n",
       "      <td>vow celibacy abandon</td>\n",
       "      <td>Much of the encyclical is spent discussing rea...</td>\n",
       "      <td>encyclical spend discuss reason paul vi believ...</td>\n",
       "      <td>1</td>\n",
       "    </tr>\n",
       "    <tr>\n",
       "      <th>4</th>\n",
       "      <td>We should further exploit natural gas</td>\n",
       "      <td>exploit natural gas</td>\n",
       "      <td>Helium is typically produced by separating it ...</td>\n",
       "      <td>helium typically produce separate natural gas ...</td>\n",
       "      <td>0</td>\n",
       "    </tr>\n",
       "  </tbody>\n",
       "</table>\n",
       "</div>"
      ],
      "text/plain": [
       "                                         Claim               Claim_Cleaned  \\\n",
       "0  We should legalize the growing of coca leaf  legalize growing coca leaf   \n",
       "1     We should limit the use of birth control     limit use birth control   \n",
       "2              We should prohibit flag burning       prohibit flag burning   \n",
       "3      The vow of celibacy should be abandoned        vow celibacy abandon   \n",
       "4        We should further exploit natural gas         exploit natural gas   \n",
       "\n",
       "                                            Evidence  \\\n",
       "0  Seeing the involvement of the coca growers, th...   \n",
       "1  Although FDA-approved for contraceptive use, S...   \n",
       "2  The case of Texas v. Johnson was appealed to t...   \n",
       "3  Much of the encyclical is spent discussing rea...   \n",
       "4  Helium is typically produced by separating it ...   \n",
       "\n",
       "                                    Evidence_Cleaned  Label  \n",
       "0  see involvement coca grower , bolivian governm...      0  \n",
       "1  fda - approve contraceptive use , searle marke...      0  \n",
       "2  case texas v. johnson appeal united states sup...      0  \n",
       "3  encyclical spend discuss reason paul vi believ...      1  \n",
       "4  helium typically produce separate natural gas ...      0  "
      ]
     },
     "execution_count": 13,
     "metadata": {},
     "output_type": "execute_result"
    }
   ],
   "source": [
    "# Rename the Label column to 'Label'\n",
    "df.rename(columns={'label':'Label'}, inplace=True)\n",
    "df.head()"
   ]
  },
  {
   "cell_type": "markdown",
   "metadata": {},
   "source": [
    "## Building Evidence detection classifier with BERT"
   ]
  },
  {
   "cell_type": "markdown",
   "metadata": {},
   "source": [
    "### Training BERT"
   ]
  },
  {
   "cell_type": "code",
   "execution_count": 14,
   "metadata": {},
   "outputs": [],
   "source": [
    "# Import necessary libraries for training the model\n",
    "from sklearn.feature_extraction.text import TfidfVectorizer\n",
    "from sklearn.model_selection import train_test_split\n",
    "from sklearn.svm import SVC\n",
    "from sklearn.metrics import accuracy_score, classification_report, confusion_matrix\n",
    "\n"
   ]
  },
  {
   "cell_type": "code",
   "execution_count": 15,
   "metadata": {},
   "outputs": [],
   "source": [
    "# Split the data into training and testing sets\n",
    "X = df['Claim_Cleaned'] + ' ' + df['Evidence_Cleaned']\n",
    "y = df['Label']\n",
    "X_train, X_test, y_train, y_test = train_test_split(X, y, test_size=0.2, random_state=42)\n"
   ]
  },
  {
   "cell_type": "markdown",
   "metadata": {},
   "source": [
    "## Create and Train the Model\n"
   ]
  },
  {
   "cell_type": "markdown",
   "metadata": {},
   "source": []
  },
  {
   "cell_type": "code",
   "execution_count": 17,
   "metadata": {},
   "outputs": [
    {
     "name": "stdout",
     "output_type": "stream",
     "text": [
      "Accuracy: 0.7731871838111298\n",
      "Classification Report:               precision    recall  f1-score   support\n",
      "\n",
      "           0       0.78      0.96      0.86       846\n",
      "           1       0.76      0.31      0.44       340\n",
      "\n",
      "    accuracy                           0.77      1186\n",
      "   macro avg       0.77      0.63      0.65      1186\n",
      "weighted avg       0.77      0.77      0.74      1186\n",
      "\n",
      "Confusion Matrix: [[812  34]\n",
      " [235 105]]\n"
     ]
    }
   ],
   "source": [
    "# Initialize the TF-IDF vectorizer to convert text to feature vectors\n",
    "tfidf = TfidfVectorizer()\n",
    "\n",
    "# Transform the training set text to a matrix of TF-IDF features\n",
    "X_train_tfidf = tfidf.fit_transform(X_train)\n",
    "\n",
    "# Transform the test set text to a matrix of TF-IDF features using the same vectorizer\n",
    "X_test_tfidf = tfidf.transform(X_test)\n",
    "\n",
    "# Initialize the Support Vector Classifier (SVC) model\n",
    "model = SVC()\n",
    "\n",
    "# Train the SVC model using the TF-IDF features from the training set and the training labels\n",
    "model.fit(X_train_tfidf, y_train)\n",
    "\n",
    "# Make predictions\n",
    "y_pred = model.predict(X_test_tfidf)\n",
    "\n",
    "# Evaluate the model\n",
    "print('Accuracy:', accuracy_score(y_test, y_pred))\n",
    "print('Classification Report:', classification_report(y_test, y_pred))\n",
    "print('Confusion Matrix:', confusion_matrix(y_test, y_pred))\n",
    "\n"
   ]
  },
  {
   "cell_type": "code",
   "execution_count": null,
   "metadata": {},
   "outputs": [],
   "source": [
    "# "
   ]
  }
 ],
 "metadata": {
  "kernelspec": {
   "display_name": "env",
   "language": "python",
   "name": "python3"
  },
  "language_info": {
   "codemirror_mode": {
    "name": "ipython",
    "version": 3
   },
   "file_extension": ".py",
   "mimetype": "text/x-python",
   "name": "python",
   "nbconvert_exporter": "python",
   "pygments_lexer": "ipython3",
   "version": "3.11.8"
  }
 },
 "nbformat": 4,
 "nbformat_minor": 2
}
