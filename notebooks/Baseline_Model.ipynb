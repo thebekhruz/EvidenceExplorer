{
 "cells": [
  {
   "cell_type": "markdown",
   "metadata": {},
   "source": [
    "# Setup"
   ]
  },
  {
   "cell_type": "code",
   "execution_count": 1,
   "metadata": {},
   "outputs": [],
   "source": [
    "# Load pandas and numpy\n",
    "import pandas as pd\n",
    "import numpy as np\n",
    "\n",
    "# For text preprocessing\n",
    "import spacy\n",
    "nlp = spacy.load('en_core_web_sm')"
   ]
  },
  {
   "cell_type": "markdown",
   "metadata": {},
   "source": [
    "# Data Loading and Exploration"
   ]
  },
  {
   "cell_type": "code",
   "execution_count": 2,
   "metadata": {},
   "outputs": [
    {
     "data": {
      "text/html": [
       "<div>\n",
       "<style scoped>\n",
       "    .dataframe tbody tr th:only-of-type {\n",
       "        vertical-align: middle;\n",
       "    }\n",
       "\n",
       "    .dataframe tbody tr th {\n",
       "        vertical-align: top;\n",
       "    }\n",
       "\n",
       "    .dataframe thead th {\n",
       "        text-align: right;\n",
       "    }\n",
       "</style>\n",
       "<table border=\"1\" class=\"dataframe\">\n",
       "  <thead>\n",
       "    <tr style=\"text-align: right;\">\n",
       "      <th></th>\n",
       "      <th>Claim</th>\n",
       "      <th>Evidence</th>\n",
       "      <th>label</th>\n",
       "    </tr>\n",
       "  </thead>\n",
       "  <tbody>\n",
       "    <tr>\n",
       "      <th>0</th>\n",
       "      <td>We should legalize the growing of coca leaf</td>\n",
       "      <td>Seeing the involvement of the coca growers, th...</td>\n",
       "      <td>0</td>\n",
       "    </tr>\n",
       "    <tr>\n",
       "      <th>1</th>\n",
       "      <td>We should limit the use of birth control</td>\n",
       "      <td>Although FDA-approved for contraceptive use, S...</td>\n",
       "      <td>0</td>\n",
       "    </tr>\n",
       "    <tr>\n",
       "      <th>2</th>\n",
       "      <td>We should prohibit flag burning</td>\n",
       "      <td>The case of Texas v. Johnson was appealed to t...</td>\n",
       "      <td>0</td>\n",
       "    </tr>\n",
       "    <tr>\n",
       "      <th>3</th>\n",
       "      <td>The vow of celibacy should be abandoned</td>\n",
       "      <td>Much of the encyclical is spent discussing rea...</td>\n",
       "      <td>1</td>\n",
       "    </tr>\n",
       "    <tr>\n",
       "      <th>4</th>\n",
       "      <td>We should further exploit natural gas</td>\n",
       "      <td>Helium is typically produced by separating it ...</td>\n",
       "      <td>0</td>\n",
       "    </tr>\n",
       "  </tbody>\n",
       "</table>\n",
       "</div>"
      ],
      "text/plain": [
       "                                         Claim  \\\n",
       "0  We should legalize the growing of coca leaf   \n",
       "1     We should limit the use of birth control   \n",
       "2              We should prohibit flag burning   \n",
       "3      The vow of celibacy should be abandoned   \n",
       "4        We should further exploit natural gas   \n",
       "\n",
       "                                            Evidence  label  \n",
       "0  Seeing the involvement of the coca growers, th...      0  \n",
       "1  Although FDA-approved for contraceptive use, S...      0  \n",
       "2  The case of Texas v. Johnson was appealed to t...      0  \n",
       "3  Much of the encyclical is spent discussing rea...      1  \n",
       "4  Helium is typically produced by separating it ...      0  "
      ]
     },
     "execution_count": 2,
     "metadata": {},
     "output_type": "execute_result"
    }
   ],
   "source": [
    "# Load the dataset with pandas and display the first 5 rows\n",
    "filepath = '/Users/thebekhruz/Desktop/nlu/EvidenceExplorer/data/validate/dev.csv'\n",
    "df = pd.read_csv(filepath)\n",
    "df.head()\n"
   ]
  },
  {
   "cell_type": "markdown",
   "metadata": {},
   "source": [
    "## Check the dataset "
   ]
  },
  {
   "cell_type": "code",
   "execution_count": 3,
   "metadata": {},
   "outputs": [
    {
     "data": {
      "text/plain": [
       "Claim       0\n",
       "Evidence    0\n",
       "label       0\n",
       "dtype: int64"
      ]
     },
     "execution_count": 3,
     "metadata": {},
     "output_type": "execute_result"
    }
   ],
   "source": [
    "# Check for nan values \n",
    "df.isnull().sum()\n"
   ]
  },
  {
   "cell_type": "code",
   "execution_count": 4,
   "metadata": {},
   "outputs": [
    {
     "data": {
      "text/plain": [
       "0"
      ]
     },
     "execution_count": 4,
     "metadata": {},
     "output_type": "execute_result"
    }
   ],
   "source": [
    "# Check for duplicates\n",
    "df.duplicated().sum()\n",
    "    "
   ]
  },
  {
   "cell_type": "code",
   "execution_count": 5,
   "metadata": {},
   "outputs": [
    {
     "data": {
      "text/plain": [
       "(5926, 3)"
      ]
     },
     "execution_count": 5,
     "metadata": {},
     "output_type": "execute_result"
    }
   ],
   "source": [
    "# Check the shape of the dataset\n",
    "df.shape"
   ]
  },
  {
   "cell_type": "markdown",
   "metadata": {},
   "source": [
    "# Preprocessing "
   ]
  },
  {
   "cell_type": "code",
   "execution_count": 6,
   "metadata": {},
   "outputs": [],
   "source": [
    "# Clean the text using spacy\n",
    "# This involves stopword removal, lemmatization, and lowercasing and tokensization\n",
    "def clean_text(text):\n",
    "    doc = nlp(text)\n",
    "    tokens = [token.lemma_.lower() for token in doc if not token.is_stop]\n",
    "    return ' '.join(tokens)\n",
    "\n",
    "# Apply the clean_text function to the text column\n",
    "df['Claim_Cleaned'] = df['Claim'].apply(clean_text)\n",
    "df['Evidence_Cleaned'] = df['Evidence'].apply(clean_text)\n",
    "\n"
   ]
  },
  {
   "cell_type": "code",
   "execution_count": null,
   "metadata": {},
   "outputs": [
    {
     "data": {
      "text/html": [
       "<div>\n",
       "<style scoped>\n",
       "    .dataframe tbody tr th:only-of-type {\n",
       "        vertical-align: middle;\n",
       "    }\n",
       "\n",
       "    .dataframe tbody tr th {\n",
       "        vertical-align: top;\n",
       "    }\n",
       "\n",
       "    .dataframe thead th {\n",
       "        text-align: right;\n",
       "    }\n",
       "</style>\n",
       "<table border=\"1\" class=\"dataframe\">\n",
       "  <thead>\n",
       "    <tr style=\"text-align: right;\">\n",
       "      <th></th>\n",
       "      <th>Claim</th>\n",
       "      <th>Claim_Cleaned</th>\n",
       "      <th>Evidence</th>\n",
       "      <th>Evidence_Cleaned</th>\n",
       "      <th>label</th>\n",
       "    </tr>\n",
       "  </thead>\n",
       "  <tbody>\n",
       "    <tr>\n",
       "      <th>0</th>\n",
       "      <td>We should legalize the growing of coca leaf</td>\n",
       "      <td>legalize growing coca leaf</td>\n",
       "      <td>Seeing the involvement of the coca growers, th...</td>\n",
       "      <td>see involvement coca grower , bolivian governm...</td>\n",
       "      <td>0</td>\n",
       "    </tr>\n",
       "    <tr>\n",
       "      <th>1</th>\n",
       "      <td>We should limit the use of birth control</td>\n",
       "      <td>limit use birth control</td>\n",
       "      <td>Although FDA-approved for contraceptive use, S...</td>\n",
       "      <td>fda - approve contraceptive use , searle marke...</td>\n",
       "      <td>0</td>\n",
       "    </tr>\n",
       "    <tr>\n",
       "      <th>2</th>\n",
       "      <td>We should prohibit flag burning</td>\n",
       "      <td>prohibit flag burning</td>\n",
       "      <td>The case of Texas v. Johnson was appealed to t...</td>\n",
       "      <td>case texas v. johnson appeal united states sup...</td>\n",
       "      <td>0</td>\n",
       "    </tr>\n",
       "    <tr>\n",
       "      <th>3</th>\n",
       "      <td>The vow of celibacy should be abandoned</td>\n",
       "      <td>vow celibacy abandon</td>\n",
       "      <td>Much of the encyclical is spent discussing rea...</td>\n",
       "      <td>encyclical spend discuss reason paul vi believ...</td>\n",
       "      <td>1</td>\n",
       "    </tr>\n",
       "    <tr>\n",
       "      <th>4</th>\n",
       "      <td>We should further exploit natural gas</td>\n",
       "      <td>exploit natural gas</td>\n",
       "      <td>Helium is typically produced by separating it ...</td>\n",
       "      <td>helium typically produce separate natural gas ...</td>\n",
       "      <td>0</td>\n",
       "    </tr>\n",
       "  </tbody>\n",
       "</table>\n",
       "</div>"
      ],
      "text/plain": [
       "                                         Claim               Claim_Cleaned  \\\n",
       "0  We should legalize the growing of coca leaf  legalize growing coca leaf   \n",
       "1     We should limit the use of birth control     limit use birth control   \n",
       "2              We should prohibit flag burning       prohibit flag burning   \n",
       "3      The vow of celibacy should be abandoned        vow celibacy abandon   \n",
       "4        We should further exploit natural gas         exploit natural gas   \n",
       "\n",
       "                                            Evidence  \\\n",
       "0  Seeing the involvement of the coca growers, th...   \n",
       "1  Although FDA-approved for contraceptive use, S...   \n",
       "2  The case of Texas v. Johnson was appealed to t...   \n",
       "3  Much of the encyclical is spent discussing rea...   \n",
       "4  Helium is typically produced by separating it ...   \n",
       "\n",
       "                                    Evidence_Cleaned  label  \n",
       "0  see involvement coca grower , bolivian governm...      0  \n",
       "1  fda - approve contraceptive use , searle marke...      0  \n",
       "2  case texas v. johnson appeal united states sup...      0  \n",
       "3  encyclical spend discuss reason paul vi believ...      1  \n",
       "4  helium typically produce separate natural gas ...      0  "
      ]
     },
     "execution_count": 12,
     "metadata": {},
     "output_type": "execute_result"
    }
   ],
   "source": [
    "# Change the order of the columns\n",
    "df = df[['Claim', 'Claim_Cleaned', 'Evidence', 'Evidence_Cleaned', 'label']]\n",
    "\n",
    "# Rename the Label column to 'Label'\n",
    "df.rename(columns={'label':'Label'}, inplace=True)\n",
    "\n",
    "df.head()"
   ]
  },
  {
   "cell_type": "code",
   "execution_count": null,
   "metadata": {},
   "outputs": [],
   "source": [
    "# Delete Claim and Evidence columns as they will no longer be used.\n",
    "del df['Claim']\n",
    "del df['Evidence']"
   ]
  },
  {
   "cell_type": "code",
   "execution_count": null,
   "metadata": {},
   "outputs": [
    {
     "data": {
      "text/html": [
       "<div>\n",
       "<style scoped>\n",
       "    .dataframe tbody tr th:only-of-type {\n",
       "        vertical-align: middle;\n",
       "    }\n",
       "\n",
       "    .dataframe tbody tr th {\n",
       "        vertical-align: top;\n",
       "    }\n",
       "\n",
       "    .dataframe thead th {\n",
       "        text-align: right;\n",
       "    }\n",
       "</style>\n",
       "<table border=\"1\" class=\"dataframe\">\n",
       "  <thead>\n",
       "    <tr style=\"text-align: right;\">\n",
       "      <th></th>\n",
       "      <th>Claim_Cleaned</th>\n",
       "      <th>Evidence_Cleaned</th>\n",
       "      <th>Label</th>\n",
       "    </tr>\n",
       "  </thead>\n",
       "  <tbody>\n",
       "    <tr>\n",
       "      <th>0</th>\n",
       "      <td>legalize growing coca leaf</td>\n",
       "      <td>see involvement coca grower , bolivian governm...</td>\n",
       "      <td>0</td>\n",
       "    </tr>\n",
       "    <tr>\n",
       "      <th>1</th>\n",
       "      <td>limit use birth control</td>\n",
       "      <td>fda - approve contraceptive use , searle marke...</td>\n",
       "      <td>0</td>\n",
       "    </tr>\n",
       "    <tr>\n",
       "      <th>2</th>\n",
       "      <td>prohibit flag burning</td>\n",
       "      <td>case texas v. johnson appeal united states sup...</td>\n",
       "      <td>0</td>\n",
       "    </tr>\n",
       "    <tr>\n",
       "      <th>3</th>\n",
       "      <td>vow celibacy abandon</td>\n",
       "      <td>encyclical spend discuss reason paul vi believ...</td>\n",
       "      <td>1</td>\n",
       "    </tr>\n",
       "    <tr>\n",
       "      <th>4</th>\n",
       "      <td>exploit natural gas</td>\n",
       "      <td>helium typically produce separate natural gas ...</td>\n",
       "      <td>0</td>\n",
       "    </tr>\n",
       "  </tbody>\n",
       "</table>\n",
       "</div>"
      ],
      "text/plain": [
       "                Claim_Cleaned  \\\n",
       "0  legalize growing coca leaf   \n",
       "1     limit use birth control   \n",
       "2       prohibit flag burning   \n",
       "3        vow celibacy abandon   \n",
       "4         exploit natural gas   \n",
       "\n",
       "                                    Evidence_Cleaned  Label  \n",
       "0  see involvement coca grower , bolivian governm...      0  \n",
       "1  fda - approve contraceptive use , searle marke...      0  \n",
       "2  case texas v. johnson appeal united states sup...      0  \n",
       "3  encyclical spend discuss reason paul vi believ...      1  \n",
       "4  helium typically produce separate natural gas ...      0  "
      ]
     },
     "execution_count": 26,
     "metadata": {},
     "output_type": "execute_result"
    }
   ],
   "source": [
    "df.head()"
   ]
  },
  {
   "cell_type": "markdown",
   "metadata": {},
   "source": [
    "# Model Preparation\n",
    "\n",
    "#### Convert the data into numerical representaiton.\n",
    "- We will use all-mpnet-base-v2 BERT model to generate document embeddings. \n",
    "- This model exhales in transforming sentences into vector forms. "
   ]
  },
  {
   "cell_type": "code",
   "execution_count": null,
   "metadata": {},
   "outputs": [
    {
     "data": {
      "application/vnd.jupyter.widget-view+json": {
       "model_id": "9e3a1ad438a043ff9a68e44154ee08aa",
       "version_major": 2,
       "version_minor": 0
      },
      "text/plain": [
       "model.safetensors:   0%|          | 0.00/438M [00:00<?, ?B/s]"
      ]
     },
     "metadata": {},
     "output_type": "display_data"
    }
   ],
   "source": [
    "from sentence_transformers import SentenceTransformer\n",
    "model = SentenceTransformer(\"all-mpnet-base-v2\")"
   ]
  },
  {
   "cell_type": "code",
   "execution_count": null,
   "metadata": {},
   "outputs": [],
   "source": [
    "# Convert the cleaned text to sentence embeddings\n",
    "def get_embeddings(text):\n",
    "    return model.encode(text)\n",
    "\n",
    "# Apply the get_embeddings function to the cleaned text columns\n",
    "df['Claim_Embeddings'] = df['Claim_Cleaned'].apply(get_embeddings)\n",
    "df['Evidence_Embeddings'] = df['Evidence_Cleaned'].apply(get_embeddings)\n"
   ]
  },
  {
   "cell_type": "code",
   "execution_count": null,
   "metadata": {},
   "outputs": [
    {
     "data": {
      "text/html": [
       "<div>\n",
       "<style scoped>\n",
       "    .dataframe tbody tr th:only-of-type {\n",
       "        vertical-align: middle;\n",
       "    }\n",
       "\n",
       "    .dataframe tbody tr th {\n",
       "        vertical-align: top;\n",
       "    }\n",
       "\n",
       "    .dataframe thead th {\n",
       "        text-align: right;\n",
       "    }\n",
       "</style>\n",
       "<table border=\"1\" class=\"dataframe\">\n",
       "  <thead>\n",
       "    <tr style=\"text-align: right;\">\n",
       "      <th></th>\n",
       "      <th>Claim_Cleaned</th>\n",
       "      <th>Claim_Embeddings</th>\n",
       "      <th>Evidence_Cleaned</th>\n",
       "      <th>Evidence_Embeddings</th>\n",
       "      <th>Label</th>\n",
       "    </tr>\n",
       "  </thead>\n",
       "  <tbody>\n",
       "    <tr>\n",
       "      <th>0</th>\n",
       "      <td>legalize growing coca leaf</td>\n",
       "      <td>[-0.028216107, 0.06747912, 0.005520506, 0.0384...</td>\n",
       "      <td>see involvement coca grower , bolivian governm...</td>\n",
       "      <td>[0.0087185195, 0.05022244, -0.010146592, 0.024...</td>\n",
       "      <td>0</td>\n",
       "    </tr>\n",
       "    <tr>\n",
       "      <th>1</th>\n",
       "      <td>limit use birth control</td>\n",
       "      <td>[-0.017686747, 0.055877153, -0.021929173, -0.0...</td>\n",
       "      <td>fda - approve contraceptive use , searle marke...</td>\n",
       "      <td>[0.0067691784, 0.07828453, -0.013959794, -0.03...</td>\n",
       "      <td>0</td>\n",
       "    </tr>\n",
       "    <tr>\n",
       "      <th>2</th>\n",
       "      <td>prohibit flag burning</td>\n",
       "      <td>[0.015522541, 0.063634604, 0.029161103, 0.0129...</td>\n",
       "      <td>case texas v. johnson appeal united states sup...</td>\n",
       "      <td>[0.028628858, 0.011332012, 0.028129712, -0.006...</td>\n",
       "      <td>0</td>\n",
       "    </tr>\n",
       "    <tr>\n",
       "      <th>3</th>\n",
       "      <td>vow celibacy abandon</td>\n",
       "      <td>[0.043576196, 0.09004921, 0.013401258, -0.0630...</td>\n",
       "      <td>encyclical spend discuss reason paul vi believ...</td>\n",
       "      <td>[0.0021371646, -0.019889826, 0.024593318, 0.00...</td>\n",
       "      <td>1</td>\n",
       "    </tr>\n",
       "    <tr>\n",
       "      <th>4</th>\n",
       "      <td>exploit natural gas</td>\n",
       "      <td>[0.00061509537, 0.042601164, 0.005643183, 0.02...</td>\n",
       "      <td>helium typically produce separate natural gas ...</td>\n",
       "      <td>[0.04620535, -0.00413415, -0.023865238, 0.0318...</td>\n",
       "      <td>0</td>\n",
       "    </tr>\n",
       "  </tbody>\n",
       "</table>\n",
       "</div>"
      ],
      "text/plain": [
       "                Claim_Cleaned  \\\n",
       "0  legalize growing coca leaf   \n",
       "1     limit use birth control   \n",
       "2       prohibit flag burning   \n",
       "3        vow celibacy abandon   \n",
       "4         exploit natural gas   \n",
       "\n",
       "                                    Claim_Embeddings  \\\n",
       "0  [-0.028216107, 0.06747912, 0.005520506, 0.0384...   \n",
       "1  [-0.017686747, 0.055877153, -0.021929173, -0.0...   \n",
       "2  [0.015522541, 0.063634604, 0.029161103, 0.0129...   \n",
       "3  [0.043576196, 0.09004921, 0.013401258, -0.0630...   \n",
       "4  [0.00061509537, 0.042601164, 0.005643183, 0.02...   \n",
       "\n",
       "                                    Evidence_Cleaned  \\\n",
       "0  see involvement coca grower , bolivian governm...   \n",
       "1  fda - approve contraceptive use , searle marke...   \n",
       "2  case texas v. johnson appeal united states sup...   \n",
       "3  encyclical spend discuss reason paul vi believ...   \n",
       "4  helium typically produce separate natural gas ...   \n",
       "\n",
       "                                 Evidence_Embeddings  Label  \n",
       "0  [0.0087185195, 0.05022244, -0.010146592, 0.024...      0  \n",
       "1  [0.0067691784, 0.07828453, -0.013959794, -0.03...      0  \n",
       "2  [0.028628858, 0.011332012, 0.028129712, -0.006...      0  \n",
       "3  [0.0021371646, -0.019889826, 0.024593318, 0.00...      1  \n",
       "4  [0.04620535, -0.00413415, -0.023865238, 0.0318...      0  "
      ]
     },
     "execution_count": 29,
     "metadata": {},
     "output_type": "execute_result"
    }
   ],
   "source": [
    "# Reorder the columns\n",
    "df = df[['Claim_Cleaned', 'Claim_Embeddings', 'Evidence_Cleaned', 'Evidence_Embeddings', 'Label']]\n",
    "df.head()"
   ]
  },
  {
   "cell_type": "code",
   "execution_count": null,
   "metadata": {},
   "outputs": [
    {
     "name": "stderr",
     "output_type": "stream",
     "text": [
      "/var/folders/xh/x6c57wpx5hv7g4hxw7y4c6cc0000gn/T/ipykernel_20133/1728447499.py:2: SettingWithCopyWarning: \n",
      "A value is trying to be set on a copy of a slice from a DataFrame.\n",
      "Try using .loc[row_indexer,col_indexer] = value instead\n",
      "\n",
      "See the caveats in the documentation: https://pandas.pydata.org/pandas-docs/stable/user_guide/indexing.html#returning-a-view-versus-a-copy\n",
      "  df['Combined_Embeddings'] = df.apply(lambda x: np.concatenate([x['Claim_Embeddings'], x['Evidence_Embeddings']]), axis=1)\n"
     ]
    },
    {
     "data": {
      "text/html": [
       "<div>\n",
       "<style scoped>\n",
       "    .dataframe tbody tr th:only-of-type {\n",
       "        vertical-align: middle;\n",
       "    }\n",
       "\n",
       "    .dataframe tbody tr th {\n",
       "        vertical-align: top;\n",
       "    }\n",
       "\n",
       "    .dataframe thead th {\n",
       "        text-align: right;\n",
       "    }\n",
       "</style>\n",
       "<table border=\"1\" class=\"dataframe\">\n",
       "  <thead>\n",
       "    <tr style=\"text-align: right;\">\n",
       "      <th></th>\n",
       "      <th>Claim_Cleaned</th>\n",
       "      <th>Claim_Embeddings</th>\n",
       "      <th>Evidence_Cleaned</th>\n",
       "      <th>Evidence_Embeddings</th>\n",
       "      <th>Label</th>\n",
       "      <th>Combined_Embeddings</th>\n",
       "    </tr>\n",
       "  </thead>\n",
       "  <tbody>\n",
       "    <tr>\n",
       "      <th>0</th>\n",
       "      <td>legalize growing coca leaf</td>\n",
       "      <td>[-0.028216107, 0.06747912, 0.005520506, 0.0384...</td>\n",
       "      <td>see involvement coca grower , bolivian governm...</td>\n",
       "      <td>[0.0087185195, 0.05022244, -0.010146592, 0.024...</td>\n",
       "      <td>0</td>\n",
       "      <td>[-0.028216107, 0.06747912, 0.005520506, 0.0384...</td>\n",
       "    </tr>\n",
       "    <tr>\n",
       "      <th>1</th>\n",
       "      <td>limit use birth control</td>\n",
       "      <td>[-0.017686747, 0.055877153, -0.021929173, -0.0...</td>\n",
       "      <td>fda - approve contraceptive use , searle marke...</td>\n",
       "      <td>[0.0067691784, 0.07828453, -0.013959794, -0.03...</td>\n",
       "      <td>0</td>\n",
       "      <td>[-0.017686747, 0.055877153, -0.021929173, -0.0...</td>\n",
       "    </tr>\n",
       "    <tr>\n",
       "      <th>2</th>\n",
       "      <td>prohibit flag burning</td>\n",
       "      <td>[0.015522541, 0.063634604, 0.029161103, 0.0129...</td>\n",
       "      <td>case texas v. johnson appeal united states sup...</td>\n",
       "      <td>[0.028628858, 0.011332012, 0.028129712, -0.006...</td>\n",
       "      <td>0</td>\n",
       "      <td>[0.015522541, 0.063634604, 0.029161103, 0.0129...</td>\n",
       "    </tr>\n",
       "    <tr>\n",
       "      <th>3</th>\n",
       "      <td>vow celibacy abandon</td>\n",
       "      <td>[0.043576196, 0.09004921, 0.013401258, -0.0630...</td>\n",
       "      <td>encyclical spend discuss reason paul vi believ...</td>\n",
       "      <td>[0.0021371646, -0.019889826, 0.024593318, 0.00...</td>\n",
       "      <td>1</td>\n",
       "      <td>[0.043576196, 0.09004921, 0.013401258, -0.0630...</td>\n",
       "    </tr>\n",
       "    <tr>\n",
       "      <th>4</th>\n",
       "      <td>exploit natural gas</td>\n",
       "      <td>[0.00061509537, 0.042601164, 0.005643183, 0.02...</td>\n",
       "      <td>helium typically produce separate natural gas ...</td>\n",
       "      <td>[0.04620535, -0.00413415, -0.023865238, 0.0318...</td>\n",
       "      <td>0</td>\n",
       "      <td>[0.00061509537, 0.042601164, 0.005643183, 0.02...</td>\n",
       "    </tr>\n",
       "  </tbody>\n",
       "</table>\n",
       "</div>"
      ],
      "text/plain": [
       "                Claim_Cleaned  \\\n",
       "0  legalize growing coca leaf   \n",
       "1     limit use birth control   \n",
       "2       prohibit flag burning   \n",
       "3        vow celibacy abandon   \n",
       "4         exploit natural gas   \n",
       "\n",
       "                                    Claim_Embeddings  \\\n",
       "0  [-0.028216107, 0.06747912, 0.005520506, 0.0384...   \n",
       "1  [-0.017686747, 0.055877153, -0.021929173, -0.0...   \n",
       "2  [0.015522541, 0.063634604, 0.029161103, 0.0129...   \n",
       "3  [0.043576196, 0.09004921, 0.013401258, -0.0630...   \n",
       "4  [0.00061509537, 0.042601164, 0.005643183, 0.02...   \n",
       "\n",
       "                                    Evidence_Cleaned  \\\n",
       "0  see involvement coca grower , bolivian governm...   \n",
       "1  fda - approve contraceptive use , searle marke...   \n",
       "2  case texas v. johnson appeal united states sup...   \n",
       "3  encyclical spend discuss reason paul vi believ...   \n",
       "4  helium typically produce separate natural gas ...   \n",
       "\n",
       "                                 Evidence_Embeddings  Label  \\\n",
       "0  [0.0087185195, 0.05022244, -0.010146592, 0.024...      0   \n",
       "1  [0.0067691784, 0.07828453, -0.013959794, -0.03...      0   \n",
       "2  [0.028628858, 0.011332012, 0.028129712, -0.006...      0   \n",
       "3  [0.0021371646, -0.019889826, 0.024593318, 0.00...      1   \n",
       "4  [0.04620535, -0.00413415, -0.023865238, 0.0318...      0   \n",
       "\n",
       "                                 Combined_Embeddings  \n",
       "0  [-0.028216107, 0.06747912, 0.005520506, 0.0384...  \n",
       "1  [-0.017686747, 0.055877153, -0.021929173, -0.0...  \n",
       "2  [0.015522541, 0.063634604, 0.029161103, 0.0129...  \n",
       "3  [0.043576196, 0.09004921, 0.013401258, -0.0630...  \n",
       "4  [0.00061509537, 0.042601164, 0.005643183, 0.02...  "
      ]
     },
     "execution_count": 30,
     "metadata": {},
     "output_type": "execute_result"
    }
   ],
   "source": [
    "# Concatenate the Claim and Evidence embeddings to form a single embedding for each row in the dataset\n",
    "df['Combined_Embeddings'] = df.apply(lambda x: np.concatenate([x['Claim_Embeddings'], x['Evidence_Embeddings']]), axis=1)\n",
    "df.head()\n"
   ]
  },
  {
   "cell_type": "code",
   "execution_count": null,
   "metadata": {},
   "outputs": [],
   "source": [
    "# Drop the Columns which are no longer needed: Claim_Cleaned, Claim_Embeddings, Evidence_Cleaned, Evidence_Embeddings\n",
    "\n",
    "del df['Claim_Cleaned']\n",
    "del df['Claim_Embeddings']\n",
    "del df['Evidence_Cleaned']\n",
    "del df['Evidence_Embeddings']\n",
    "df.head()"
   ]
  },
  {
   "cell_type": "code",
   "execution_count": null,
   "metadata": {},
   "outputs": [],
   "source": [
    "# Extract X_train and y_train\n",
    "X_train = np.stack(df['Combined_Embeddings'].to_numpy())\n",
    "y_train = df['Label'].to_numpy()\n",
    "\n",
    "# Save the X_train and y_train arrays\n",
    "np.save('X_train.npy', X_train)\n",
    "np.save('y_train.npy', y_train)\n"
   ]
  },
  {
   "cell_type": "code",
   "execution_count": null,
   "metadata": {},
   "outputs": [
    {
     "name": "stdout",
     "output_type": "stream",
     "text": [
      "Cross-validation scores: [0.806914   0.81772152 0.8185654  0.82109705 0.80759494]\n",
      "Mean cross-validation score: 0.814378579916181\n"
     ]
    }
   ],
   "source": [
    "# Import the Logistic Regression model\n",
    "from sklearn.linear_model import LogisticRegression\n",
    "from sklearn.model_selection import cross_val_score\n",
    "from sklearn.metrics import accuracy_score\n",
    "\n",
    "# Load the X_train and y_train arrays\n",
    "X_train = np.load('X_train.npy')\n",
    "y_train = np.load('y_train.npy')\n",
    "\n",
    "# Initialize the Logistic Regression classifier\n",
    "clf = LogisticRegression(max_iter=1000)\n",
    "\n",
    "# Train the classifier\n",
    "clf.fit(X_train, y_train)\n",
    "\n",
    "# Evaluate the classifier using cross-validation\n",
    "scores = cross_val_score(clf, X_train, y_train, cv=5)\n",
    "print('Cross-validation scores:', scores)\n",
    "print('Mean cross-validation score:', scores.mean())\n"
   ]
  },
  {
   "cell_type": "markdown",
   "metadata": {},
   "source": [
    "# Results"
   ]
  },
  {
   "cell_type": "code",
   "execution_count": null,
   "metadata": {},
   "outputs": [
    {
     "data": {
      "text/html": [
       "<div>\n",
       "<style scoped>\n",
       "    .dataframe tbody tr th:only-of-type {\n",
       "        vertical-align: middle;\n",
       "    }\n",
       "\n",
       "    .dataframe tbody tr th {\n",
       "        vertical-align: top;\n",
       "    }\n",
       "\n",
       "    .dataframe thead th {\n",
       "        text-align: right;\n",
       "    }\n",
       "</style>\n",
       "<table border=\"1\" class=\"dataframe\">\n",
       "  <thead>\n",
       "    <tr style=\"text-align: right;\">\n",
       "      <th></th>\n",
       "      <th>Claim</th>\n",
       "      <th>Evidence</th>\n",
       "      <th>label</th>\n",
       "    </tr>\n",
       "  </thead>\n",
       "  <tbody>\n",
       "    <tr>\n",
       "      <th>0</th>\n",
       "      <td>We should legalize the growing of coca leaf</td>\n",
       "      <td>Seeing the involvement of the coca growers, th...</td>\n",
       "      <td>0</td>\n",
       "    </tr>\n",
       "    <tr>\n",
       "      <th>1</th>\n",
       "      <td>We should limit the use of birth control</td>\n",
       "      <td>Although FDA-approved for contraceptive use, S...</td>\n",
       "      <td>0</td>\n",
       "    </tr>\n",
       "    <tr>\n",
       "      <th>2</th>\n",
       "      <td>We should prohibit flag burning</td>\n",
       "      <td>The case of Texas v. Johnson was appealed to t...</td>\n",
       "      <td>0</td>\n",
       "    </tr>\n",
       "    <tr>\n",
       "      <th>3</th>\n",
       "      <td>The vow of celibacy should be abandoned</td>\n",
       "      <td>Much of the encyclical is spent discussing rea...</td>\n",
       "      <td>1</td>\n",
       "    </tr>\n",
       "    <tr>\n",
       "      <th>4</th>\n",
       "      <td>We should further exploit natural gas</td>\n",
       "      <td>Helium is typically produced by separating it ...</td>\n",
       "      <td>0</td>\n",
       "    </tr>\n",
       "  </tbody>\n",
       "</table>\n",
       "</div>"
      ],
      "text/plain": [
       "                                         Claim  \\\n",
       "0  We should legalize the growing of coca leaf   \n",
       "1     We should limit the use of birth control   \n",
       "2              We should prohibit flag burning   \n",
       "3      The vow of celibacy should be abandoned   \n",
       "4        We should further exploit natural gas   \n",
       "\n",
       "                                            Evidence  label  \n",
       "0  Seeing the involvement of the coca growers, th...      0  \n",
       "1  Although FDA-approved for contraceptive use, S...      0  \n",
       "2  The case of Texas v. Johnson was appealed to t...      0  \n",
       "3  Much of the encyclical is spent discussing rea...      1  \n",
       "4  Helium is typically produced by separating it ...      0  "
      ]
     },
     "execution_count": 44,
     "metadata": {},
     "output_type": "execute_result"
    }
   ],
   "source": [
    "# Load the validation dataset\n",
    "filepath = '/Users/thebekhruz/Desktop/nlu/EvidenceExplorer/data/validate/dev.csv'\n",
    "df_dev = pd.read_csv(filepath)\n",
    "df_dev.head()\n"
   ]
  },
  {
   "cell_type": "code",
   "execution_count": null,
   "metadata": {},
   "outputs": [
    {
     "data": {
      "text/html": [
       "<div>\n",
       "<style scoped>\n",
       "    .dataframe tbody tr th:only-of-type {\n",
       "        vertical-align: middle;\n",
       "    }\n",
       "\n",
       "    .dataframe tbody tr th {\n",
       "        vertical-align: top;\n",
       "    }\n",
       "\n",
       "    .dataframe thead th {\n",
       "        text-align: right;\n",
       "    }\n",
       "</style>\n",
       "<table border=\"1\" class=\"dataframe\">\n",
       "  <thead>\n",
       "    <tr style=\"text-align: right;\">\n",
       "      <th></th>\n",
       "      <th>label</th>\n",
       "      <th>Combined_Embeddings</th>\n",
       "    </tr>\n",
       "  </thead>\n",
       "  <tbody>\n",
       "    <tr>\n",
       "      <th>0</th>\n",
       "      <td>0</td>\n",
       "      <td>[-0.028216107, 0.06747912, 0.005520506, 0.0384...</td>\n",
       "    </tr>\n",
       "    <tr>\n",
       "      <th>1</th>\n",
       "      <td>0</td>\n",
       "      <td>[-0.017686747, 0.055877153, -0.021929173, -0.0...</td>\n",
       "    </tr>\n",
       "    <tr>\n",
       "      <th>2</th>\n",
       "      <td>0</td>\n",
       "      <td>[0.015522541, 0.063634604, 0.029161103, 0.0129...</td>\n",
       "    </tr>\n",
       "    <tr>\n",
       "      <th>3</th>\n",
       "      <td>1</td>\n",
       "      <td>[0.043576196, 0.09004921, 0.013401258, -0.0630...</td>\n",
       "    </tr>\n",
       "    <tr>\n",
       "      <th>4</th>\n",
       "      <td>0</td>\n",
       "      <td>[0.00061509537, 0.042601164, 0.005643183, 0.02...</td>\n",
       "    </tr>\n",
       "  </tbody>\n",
       "</table>\n",
       "</div>"
      ],
      "text/plain": [
       "   label                                Combined_Embeddings\n",
       "0      0  [-0.028216107, 0.06747912, 0.005520506, 0.0384...\n",
       "1      0  [-0.017686747, 0.055877153, -0.021929173, -0.0...\n",
       "2      0  [0.015522541, 0.063634604, 0.029161103, 0.0129...\n",
       "3      1  [0.043576196, 0.09004921, 0.013401258, -0.0630...\n",
       "4      0  [0.00061509537, 0.042601164, 0.005643183, 0.02..."
      ]
     },
     "execution_count": 45,
     "metadata": {},
     "output_type": "execute_result"
    }
   ],
   "source": [
    "# A function to prepare the data for the classifier\n",
    "\n",
    "def prepare_data(df):\n",
    "    # Clean the text\n",
    "    df['Claim_Cleaned'] = df['Claim'].apply(clean_text)\n",
    "    df['Evidence_Cleaned'] = df['Evidence'].apply(clean_text)\n",
    "    \n",
    "    # Get the embeddings\n",
    "    df['Claim_Embeddings'] = df['Claim_Cleaned'].apply(get_embeddings)\n",
    "    df['Evidence_Embeddings'] = df['Evidence_Cleaned'].apply(get_embeddings)\n",
    "    \n",
    "    # Concatenate the embeddings\n",
    "    df['Combined_Embeddings'] = df.apply(lambda x: np.concatenate([x['Claim_Embeddings'], x['Evidence_Embeddings']]), axis=1)\n",
    "    \n",
    "    # Drop the columns\n",
    "    del df['Claim']\n",
    "    del df['Evidence']\n",
    "    del df['Claim_Cleaned']\n",
    "    del df['Claim_Embeddings']\n",
    "    del df['Evidence_Cleaned']\n",
    "    del df['Evidence_Embeddings']\n",
    "    \n",
    "    return df\n",
    "\n",
    "# Prepare the validation dataset\n",
    "df_dev = prepare_data(df_dev)\n",
    "df_dev.head()"
   ]
  },
  {
   "cell_type": "code",
   "execution_count": null,
   "metadata": {},
   "outputs": [
    {
     "data": {
      "text/html": [
       "<div>\n",
       "<style scoped>\n",
       "    .dataframe tbody tr th:only-of-type {\n",
       "        vertical-align: middle;\n",
       "    }\n",
       "\n",
       "    .dataframe tbody tr th {\n",
       "        vertical-align: top;\n",
       "    }\n",
       "\n",
       "    .dataframe thead th {\n",
       "        text-align: right;\n",
       "    }\n",
       "</style>\n",
       "<table border=\"1\" class=\"dataframe\">\n",
       "  <thead>\n",
       "    <tr style=\"text-align: right;\">\n",
       "      <th></th>\n",
       "      <th>Combined_Embeddings</th>\n",
       "      <th>label</th>\n",
       "      <th>Predictions</th>\n",
       "    </tr>\n",
       "  </thead>\n",
       "  <tbody>\n",
       "    <tr>\n",
       "      <th>0</th>\n",
       "      <td>[-0.028216107, 0.06747912, 0.005520506, 0.0384...</td>\n",
       "      <td>0</td>\n",
       "      <td>0</td>\n",
       "    </tr>\n",
       "    <tr>\n",
       "      <th>1</th>\n",
       "      <td>[-0.017686747, 0.055877153, -0.021929173, -0.0...</td>\n",
       "      <td>0</td>\n",
       "      <td>0</td>\n",
       "    </tr>\n",
       "    <tr>\n",
       "      <th>2</th>\n",
       "      <td>[0.015522541, 0.063634604, 0.029161103, 0.0129...</td>\n",
       "      <td>0</td>\n",
       "      <td>1</td>\n",
       "    </tr>\n",
       "    <tr>\n",
       "      <th>3</th>\n",
       "      <td>[0.043576196, 0.09004921, 0.013401258, -0.0630...</td>\n",
       "      <td>1</td>\n",
       "      <td>0</td>\n",
       "    </tr>\n",
       "    <tr>\n",
       "      <th>4</th>\n",
       "      <td>[0.00061509537, 0.042601164, 0.005643183, 0.02...</td>\n",
       "      <td>0</td>\n",
       "      <td>0</td>\n",
       "    </tr>\n",
       "  </tbody>\n",
       "</table>\n",
       "</div>"
      ],
      "text/plain": [
       "                                 Combined_Embeddings  label  Predictions\n",
       "0  [-0.028216107, 0.06747912, 0.005520506, 0.0384...      0            0\n",
       "1  [-0.017686747, 0.055877153, -0.021929173, -0.0...      0            0\n",
       "2  [0.015522541, 0.063634604, 0.029161103, 0.0129...      0            1\n",
       "3  [0.043576196, 0.09004921, 0.013401258, -0.0630...      1            0\n",
       "4  [0.00061509537, 0.042601164, 0.005643183, 0.02...      0            0"
      ]
     },
     "execution_count": 49,
     "metadata": {},
     "output_type": "execute_result"
    }
   ],
   "source": [
    "# Use the trained model to predict\n",
    "predictions = clf.predict(np.stack(df_dev['Combined_Embeddings'].to_numpy()))\n",
    "# Add the predictions to the dataframe\n",
    "df_dev['Predictions'] = predictions\n",
    "\n",
    "# Reorder the columns\n",
    "df_dev = df_dev[['Combined_Embeddings', 'label', 'Predictions']]\n",
    "df_dev.head()"
   ]
  },
  {
   "cell_type": "code",
   "execution_count": null,
   "metadata": {},
   "outputs": [
    {
     "name": "stdout",
     "output_type": "stream",
     "text": [
      "Accuracy: 0.8391832602092474\n"
     ]
    }
   ],
   "source": [
    "# Calculate the accuracy\n",
    "accuracy = accuracy_score(df_dev['label'], df_dev['Predictions'])\n",
    "print('Accuracy:', accuracy)\n"
   ]
  },
  {
   "cell_type": "code",
   "execution_count": null,
   "metadata": {},
   "outputs": [],
   "source": [
    "# Save the model\n",
    "import joblib\n",
    "joblib.dump(clf, 'model.pkl')\n",
    "\n",
    "# Save the validation dataset\n",
    "df_dev.to_csv('dev_predictions.csv', index=False)\n"
   ]
  }
 ],
 "metadata": {
  "kernelspec": {
   "display_name": "env",
   "language": "python",
   "name": "python3"
  },
  "language_info": {
   "codemirror_mode": {
    "name": "ipython",
    "version": 3
   },
   "file_extension": ".py",
   "mimetype": "text/x-python",
   "name": "python",
   "nbconvert_exporter": "python",
   "pygments_lexer": "ipython3",
   "version": "3.11.8"
  }
 },
 "nbformat": 4,
 "nbformat_minor": 2
}
